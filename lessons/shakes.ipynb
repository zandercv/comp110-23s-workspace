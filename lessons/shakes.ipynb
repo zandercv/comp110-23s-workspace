{
 "cells": [
  {
   "attachments": {},
   "cell_type": "markdown",
   "metadata": {},
   "source": [
    "# Quantifying Shakespeare \n",
    "Analyzing frequencies of different letters in shakespeare's work. \n",
    "\n",
    "1. Read all of Shakespeare's works into a list of strings \n",
    "2. Count the frequencies of letters used \n",
    "3. Visualize the frequencies with a bar graph \n"
   ]
  },
  {
   "cell_type": "code",
   "execution_count": 1,
   "metadata": {},
   "outputs": [
    {
     "name": "stdout",
     "output_type": "stream",
     "text": [
      "124456\n"
     ]
    }
   ],
   "source": [
    "from io import TextIOWrapper\n",
    "def read_lines(filename: str) -> list[str]:\n",
    "    \"\"\"Read a text file into a list of strings for each line\"\"\"\n",
    "    lines: list[str] = []\n",
    "    file_handle: TextIOWrapper = open(filename, \"r\")\n",
    "    for line in file_handle: \n",
    "        # strip leading and tailing whitespaces \"  a  \" -> \"a\"\n",
    "        line = line.strip()\n",
    "        # make every character lower case \n",
    "        line = line.lower()\n",
    "        lines.append(line)\n",
    "    file_handle.close()\n",
    "    return lines \n",
    "\n",
    "shakespeare_lines: list[str] = read_lines(\"../data/t8.shakespeare.txt\")\n",
    "print(len(shakespeare_lines))\n"
   ]
  },
  {
   "cell_type": "code",
   "execution_count": 2,
   "metadata": {},
   "outputs": [
    {
     "data": {
      "text/plain": [
       "{'a': 1, 'b': 2, 'c': 1}"
      ]
     },
     "execution_count": 2,
     "metadata": {},
     "output_type": "execute_result"
    }
   ],
   "source": [
    "def tally(counts: dict[str, int], key: str) -> None: \n",
    "    \"\"\"Mutates coutns by increasing the value stored at key by 1 \"\"\"\n",
    "    if key in counts: \n",
    "        counts[key] += 1 \n",
    "    else: \n",
    "        counts[key] = 1 \n",
    "    return counts\n",
    "\n",
    "tally({\"a\": 1, \"b\": 2}, \"c\")"
   ]
  },
  {
   "cell_type": "code",
   "execution_count": 3,
   "metadata": {},
   "outputs": [
    {
     "name": "stdout",
     "output_type": "stream",
     "text": [
      "{'a': 1}\n",
      "{'a': 2}\n",
      "{'a': 3}\n"
     ]
    }
   ],
   "source": [
    "d: dict = {}\n",
    "tally(d, \"a\")\n",
    "print(d)\n",
    "tally(d, \"a\")\n",
    "print(d)\n",
    "tally(d, \"a\")\n",
    "print(d)"
   ]
  },
  {
   "cell_type": "code",
   "execution_count": 6,
   "metadata": {},
   "outputs": [
    {
     "name": "stdout",
     "output_type": "stream",
     "text": [
      "{'t': 329775, 'h': 236868, 'i': 253990, 's': 248989, ' ': 823058, 'e': 447204, '1': 928, '0': 299, 'x': 5294, 'f': 80516, 'l': 170019, 'p': 58464, 'r': 237864, 'n': 243262, 'd': 149462, 'b': 61956, 'y': 94370, 'o': 314600, 'j': 4779, 'c': 88185, 'g': 68199, 'u': 128947, ',': 83174, 'a': 289150, 'w': 89390, '.': 78025, 'm': 111452, 'k': 35408, '!': 8844, '*': 63, '<': 468, 'v': 37569, '9': 948, '-': 8074, '3': 330, '(': 628, ')': 629, '2': 366, '>': 441, '7': 41, '4': 93, '[': 2085, '#': 1, ']': 2077, 'z': 1631, '8': 40, '@': 8, ':': 1827, '=': 1, '%': 1, '\"': 470, '/': 5, '6': 63, '5': 82, \"'\": 31069, ';': 17199, '~': 1, '_': 71, 'q': 3582, '?': 10476, '|': 33, '&': 21, '`': 1, '}': 2}\n"
     ]
    }
   ],
   "source": [
    "def count_letters(lines: list[str]) -> dict[str, int]:\n",
    "    counts: dict[str, int] = {}\n",
    "    for line in lines: \n",
    "        for char in line: \n",
    "                tally(counts, char)\n",
    "    return(counts)\n",
    "\n",
    "shakes_letters = count_letters(shakespeare_lines)\n",
    "\n",
    "print(count_letters(shakespeare_lines))\n"
   ]
  },
  {
   "attachments": {},
   "cell_type": "markdown",
   "metadata": {},
   "source": [
    "# Sorting Dictionaries "
   ]
  },
  {
   "cell_type": "code",
   "execution_count": 7,
   "metadata": {},
   "outputs": [
    {
     "name": "stdout",
     "output_type": "stream",
     "text": [
      "[('t', 329775), ('h', 236868), ('i', 253990), ('s', 248989), (' ', 823058), ('e', 447204), ('1', 928), ('0', 299), ('x', 5294), ('f', 80516), ('l', 170019), ('p', 58464), ('r', 237864), ('n', 243262), ('d', 149462), ('b', 61956), ('y', 94370), ('o', 314600), ('j', 4779), ('c', 88185), ('g', 68199), ('u', 128947), (',', 83174), ('a', 289150), ('w', 89390), ('.', 78025), ('m', 111452), ('k', 35408), ('!', 8844), ('*', 63), ('<', 468), ('v', 37569), ('9', 948), ('-', 8074), ('3', 330), ('(', 628), (')', 629), ('2', 366), ('>', 441), ('7', 41), ('4', 93), ('[', 2085), ('#', 1), (']', 2077), ('z', 1631), ('8', 40), ('@', 8), (':', 1827), ('=', 1), ('%', 1), ('\"', 470), ('/', 5), ('6', 63), ('5', 82), (\"'\", 31069), (';', 17199), ('~', 1), ('_', 71), ('q', 3582), ('?', 10476), ('|', 33), ('&', 21), ('`', 1), ('}', 2)]\n"
     ]
    }
   ],
   "source": [
    "# make my dictionary a list \n",
    "list_version_shakes: list[tuple[str,int]] = list(shakes_letters.items())\n",
    "print(list_version_shakes)"
   ]
  }
 ],
 "metadata": {
  "kernelspec": {
   "display_name": "Python 3",
   "language": "python",
   "name": "python3"
  },
  "language_info": {
   "codemirror_mode": {
    "name": "ipython",
    "version": 3
   },
   "file_extension": ".py",
   "mimetype": "text/x-python",
   "name": "python",
   "nbconvert_exporter": "python",
   "pygments_lexer": "ipython3",
   "version": "3.11.1"
  },
  "orig_nbformat": 4
 },
 "nbformat": 4,
 "nbformat_minor": 2
}
